{
 "cells": [
  {
   "cell_type": "markdown",
   "id": "7f5d735d",
   "metadata": {},
   "source": [
    "# Web Scraping from Scratch with Selenium & AWS\n",
    "\n",
    "## Objective\n",
    "1. Scrape top  10 trending videos on Youtube using Selenium\n",
    "2. Set up a recurring job on AWS Lambda to scrape every 30 minute\n",
    "3. Send the result as a CSV attachment over email (or to a spreadsheet)\n",
    "\n",
    "### Step 1 - Create a GitHub repository\n",
    "* Create a repository at https://github.com/new\n",
    "* Add README, gitignore (Python) and license \n",
    "* (Optional) Clone the repository locally\n",
    "* References:\n",
    "    * Introduction to GitHub: https://lab.github.com/githubtraining... \n",
    "    * Git & GitHub tutorial:   \n",
    "\n",
    " • Git and GitHub fo...   \n",
    "\n",
    "\n",
    "### Step 2 - Launch the repository on Replit\n",
    "* Connect Replit with your GitHub account\n",
    "* Launch the repository as a Replit project\n",
    "* Set up the language and run command\n",
    "* Create and execute a Python script\n",
    "* Attempt to scrape the page using requests & Beautiful Soup\n",
    "* References:\n",
    "    * Introduction to Replit: https://docs.replit.com/tutorials/01-... \n",
    "    * Replit + GitHub: https://docs.replit.com/tutorials/06-... \n",
    "    * YouTube trending feed: https://www.youtube.com/feed/trending \n",
    "    * Beautiful soup tutorial: https://blog.jovian.ai/web-scraping-u... \n",
    "\n",
    "\n",
    "### Step 3 - Extract information using Selenium\n",
    "* Install selenium and create a browser driver\n",
    "* Load the page and extract information\n",
    "* Create a CSV of results using Pandas\n",
    "* References:\n",
    "    * Selenium tutorial: https://www.browserstack.com/guide/py...\n",
    "    * Pandas tutorial: https://jovian.ai/learn/data-analysis...\n",
    "\n",
    "\n",
    "### Step 4 - Set up a recurring job on AWS Lambda\n",
    "* Create an AWS Lambda Python function\n",
    "* Deploy a sample script and observe the output\n",
    "* Add layers for Selenium and Chromium\n",
    "* Set up recurring job using AWS CloudWatch\n",
    "* References:\n",
    "    * Python on AWS Lambda tutorial: https://stackify.com/aws-lambda-with-... \n",
    "    * Chromium & Selenium on AWS Lambda: https://dev.to/awscommunity-asean/cre...\n",
    "    * Recurring AWS Lambda functions: https://docs.aws.amazon.com/lambda/la... \n",
    "\n",
    "### Step 5 - Send results over email using SMTP\n",
    "* Create email client using smtplib\n",
    "* Set up SSL, TLS and authenticate with password\n",
    "* Send a sample email with just text\n",
    "* Send an email with text and attachment\n",
    "* References:\n",
    "    * Sending Email with Python: https://stackabuse.com/how-to-send-em...\n",
    "    * Send email using Python: https://www.geeksforgeeks.org/send-ma...\n",
    "    * Environment variables on Replit: https://docs.replit.com/programming-i...\n",
    "    * https://docs.aws.amazon.com/lambda/la... \n",
    "    * Update Google sheets using Python: https://www.analyticsvidhya.com/blog/..."
   ]
  },
  {
   "cell_type": "code",
   "execution_count": null,
   "id": "de3f5668",
   "metadata": {},
   "outputs": [],
   "source": []
  },
  {
   "cell_type": "code",
   "execution_count": 4,
   "id": "b7a2a08b",
   "metadata": {},
   "outputs": [
    {
     "ename": "SyntaxError",
     "evalue": "invalid syntax (1262808197.py, line 3)",
     "output_type": "error",
     "traceback": [
      "\u001b[0;36m  Cell \u001b[0;32mIn[4], line 3\u001b[0;36m\u001b[0m\n\u001b[0;31m    pip install bs4 requests selenium\u001b[0m\n\u001b[0m        ^\u001b[0m\n\u001b[0;31mSyntaxError\u001b[0m\u001b[0;31m:\u001b[0m invalid syntax\n"
     ]
    }
   ],
   "source": [
    "## install beautiful soup and requests library\n",
    "## Selenium - is python API which interact with webrowser, you'd still need # a web driver to connect\n",
    "pip install bs4 requests selenium"
   ]
  },
  {
   "cell_type": "code",
   "execution_count": 6,
   "id": "c7c403cc",
   "metadata": {},
   "outputs": [
    {
     "name": "stdout",
     "output_type": "stream",
     "text": [
      "Collecting selenium\n",
      "  Downloading selenium-4.8.2-py3-none-any.whl (6.9 MB)\n",
      "\u001b[2K     \u001b[90m━━━━━━━━━━━━━━━━━━━━━━━━━━━━━━━━━━━━━━━━\u001b[0m \u001b[32m6.9/6.9 MB\u001b[0m \u001b[31m1.7 MB/s\u001b[0m eta \u001b[36m0:00:00\u001b[0m00:01\u001b[0m00:01\u001b[0m\n",
      "\u001b[?25hRequirement already satisfied: urllib3[socks]~=1.26 in /Users/mac/.pyenv/versions/3.8.15/lib/python3.8/site-packages (from selenium) (1.26.14)\n",
      "Collecting trio~=0.17\n",
      "  Downloading trio-0.22.0-py3-none-any.whl (384 kB)\n",
      "\u001b[2K     \u001b[90m━━━━━━━━━━━━━━━━━━━━━━━━━━━━━━━━━━━━━━━\u001b[0m \u001b[32m384.9/384.9 KB\u001b[0m \u001b[31m1.2 MB/s\u001b[0m eta \u001b[36m0:00:00\u001b[0ma \u001b[36m0:00:01\u001b[0m\n",
      "\u001b[?25hRequirement already satisfied: certifi>=2021.10.8 in /Users/mac/.pyenv/versions/3.8.15/lib/python3.8/site-packages (from selenium) (2022.12.7)\n",
      "Collecting trio-websocket~=0.9\n",
      "  Downloading trio_websocket-0.9.2-py3-none-any.whl (16 kB)\n",
      "Collecting sortedcontainers\n",
      "  Downloading sortedcontainers-2.4.0-py2.py3-none-any.whl (29 kB)\n",
      "Collecting exceptiongroup>=1.0.0rc9\n",
      "  Downloading exceptiongroup-1.1.0-py3-none-any.whl (14 kB)\n",
      "Collecting async-generator>=1.9\n",
      "  Downloading async_generator-1.10-py3-none-any.whl (18 kB)\n",
      "Collecting attrs>=19.2.0\n",
      "  Downloading attrs-22.2.0-py3-none-any.whl (60 kB)\n",
      "\u001b[2K     \u001b[90m━━━━━━━━━━━━━━━━━━━━━━━━━━━━━━━━━━━━━━━━\u001b[0m \u001b[32m60.0/60.0 KB\u001b[0m \u001b[31m1.9 MB/s\u001b[0m eta \u001b[36m0:00:00\u001b[0m\n",
      "\u001b[?25hCollecting sniffio\n",
      "  Downloading sniffio-1.3.0-py3-none-any.whl (10 kB)\n",
      "Collecting outcome\n",
      "  Downloading outcome-1.2.0-py2.py3-none-any.whl (9.7 kB)\n",
      "Requirement already satisfied: idna in /Users/mac/.pyenv/versions/3.8.15/lib/python3.8/site-packages (from trio~=0.17->selenium) (3.4)\n",
      "Collecting wsproto>=0.14\n",
      "  Downloading wsproto-1.2.0-py3-none-any.whl (24 kB)\n",
      "Collecting PySocks!=1.5.7,<2.0,>=1.5.6\n",
      "  Downloading PySocks-1.7.1-py3-none-any.whl (16 kB)\n",
      "Collecting h11<1,>=0.9.0\n",
      "  Downloading h11-0.14.0-py3-none-any.whl (58 kB)\n",
      "\u001b[2K     \u001b[90m━━━━━━━━━━━━━━━━━━━━━━━━━━━━━━━━━━━━━━━━\u001b[0m \u001b[32m58.3/58.3 KB\u001b[0m \u001b[31m1.8 MB/s\u001b[0m eta \u001b[36m0:00:00\u001b[0m\n",
      "\u001b[?25hInstalling collected packages: sortedcontainers, sniffio, PySocks, h11, exceptiongroup, attrs, async-generator, wsproto, outcome, trio, trio-websocket, selenium\n",
      "Successfully installed PySocks-1.7.1 async-generator-1.10 attrs-22.2.0 exceptiongroup-1.1.0 h11-0.14.0 outcome-1.2.0 selenium-4.8.2 sniffio-1.3.0 sortedcontainers-2.4.0 trio-0.22.0 trio-websocket-0.9.2 wsproto-1.2.0\n",
      "\u001b[33mWARNING: You are using pip version 22.0.4; however, version 23.0.1 is available.\n",
      "You should consider upgrading via the '/Users/mac/.pyenv/versions/3.8.15/bin/python -m pip install --upgrade pip' command.\u001b[0m\u001b[33m\n",
      "\u001b[0mNote: you may need to restart the kernel to use updated packages.\n"
     ]
    }
   ],
   "source": [
    "pip install selenium"
   ]
  },
  {
   "cell_type": "code",
   "execution_count": 5,
   "id": "d4841c12",
   "metadata": {},
   "outputs": [
    {
     "name": "stdout",
     "output_type": "stream",
     "text": [
      "Collecting pandas\n",
      "  Downloading pandas-1.5.3-cp38-cp38-macosx_10_9_x86_64.whl (11.9 MB)\n",
      "\u001b[2K     \u001b[90m━━━━━━━━━━━━━━━━━━━━━━━━━━━━━━━━━━━━━━━━\u001b[0m \u001b[32m11.9/11.9 MB\u001b[0m \u001b[31m1.2 MB/s\u001b[0m eta \u001b[36m0:00:00\u001b[0m00:01\u001b[0m00:01\u001b[0m\n",
      "\u001b[?25hCollecting numpy>=1.20.3\n",
      "  Downloading numpy-1.24.2-cp38-cp38-macosx_10_9_x86_64.whl (19.8 MB)\n",
      "\u001b[2K     \u001b[90m━━━━━━━━━━━━━━━━━━━━━━━━━━━━━━━━━━━━━━━━\u001b[0m \u001b[32m19.8/19.8 MB\u001b[0m \u001b[31m1.1 MB/s\u001b[0m eta \u001b[36m0:00:00\u001b[0m00:01\u001b[0m00:01\u001b[0mm\n",
      "\u001b[?25hRequirement already satisfied: python-dateutil>=2.8.1 in /Users/mac/.pyenv/versions/3.8.15/lib/python3.8/site-packages (from pandas) (2.8.2)\n",
      "Collecting pytz>=2020.1\n",
      "  Downloading pytz-2022.7.1-py2.py3-none-any.whl (499 kB)\n",
      "\u001b[2K     \u001b[90m━━━━━━━━━━━━━━━━━━━━━━━━━━━━━━━━━━━━━━━\u001b[0m \u001b[32m499.4/499.4 KB\u001b[0m \u001b[31m1.1 MB/s\u001b[0m eta \u001b[36m0:00:00\u001b[0m00:01\u001b[0m00:01\u001b[0m\n",
      "\u001b[?25hRequirement already satisfied: six>=1.5 in /Users/mac/.pyenv/versions/3.8.15/lib/python3.8/site-packages (from python-dateutil>=2.8.1->pandas) (1.16.0)\n",
      "Installing collected packages: pytz, numpy, pandas\n",
      "Successfully installed numpy-1.24.2 pandas-1.5.3 pytz-2022.7.1\n",
      "\u001b[33mWARNING: You are using pip version 22.0.4; however, version 23.0.1 is available.\n",
      "You should consider upgrading via the '/Users/mac/.pyenv/versions/3.8.15/bin/python -m pip install --upgrade pip' command.\u001b[0m\u001b[33m\n",
      "\u001b[0mNote: you may need to restart the kernel to use updated packages.\n"
     ]
    }
   ],
   "source": [
    "pip install pandas"
   ]
  },
  {
   "cell_type": "code",
   "execution_count": 3,
   "id": "3ba69d89",
   "metadata": {},
   "outputs": [
    {
     "name": "stdout",
     "output_type": "stream",
     "text": [
      "\u001b[31mERROR: Could not find a version that satisfies the requirement smtplib (from versions: none)\u001b[0m\u001b[31m\n",
      "\u001b[0m\u001b[31mERROR: No matching distribution found for smtplib\u001b[0m\u001b[31m\n",
      "\u001b[0m\u001b[33mWARNING: You are using pip version 22.0.4; however, version 23.0.1 is available.\n",
      "You should consider upgrading via the '/Users/mac/.pyenv/versions/3.8.15/bin/python -m pip install --upgrade pip' command.\u001b[0m\u001b[33m\n",
      "\u001b[0mNote: you may need to restart the kernel to use updated packages.\n"
     ]
    }
   ],
   "source": [
    "pip install smtplib"
   ]
  },
  {
   "cell_type": "code",
   "execution_count": 2,
   "id": "135278aa",
   "metadata": {},
   "outputs": [
    {
     "name": "stdout",
     "output_type": "stream",
     "text": [
      "Status Code 200\n",
      "Page title มาแรง - YouTube\n",
      "Found 0 videos\n"
     ]
    }
   ],
   "source": [
    "import requests\n",
    "from bs4 import BeautifulSoup\n",
    "\n",
    "YOUTUBE_TRENDING_URL = 'https://www.youtube.com/feed/trending'\n",
    "\n",
    "# request.get post javascript down but does not execute JavaScript - all those data getting dynamically is not\n",
    "# happening here as there is no video on the intial page\n",
    "response = requests.get(YOUTUBE_TRENDING_URL)\n",
    "\n",
    "# status code of \"200\" means successful , \"404\" means unsuccessful\n",
    "print('Status Code', response.status_code)\n",
    "\n",
    "# w means \"write to the file\"\n",
    "# with open('trending.html', 'w') as f:\n",
    "#     f.write(response.text)\n",
    "\n",
    "doc = BeautifulSoup(response.text, 'html.parser')\n",
    "\n",
    "print('Page title', doc.title.text)\n",
    "\n",
    "# Find all the video divs\n",
    "video_divs = doc.find_all('div',\n",
    "                          class_ = 'ytd-video-renderer')\n",
    "\n",
    "print(f'Found {len(video_divs)} videos')"
   ]
  },
  {
   "cell_type": "code",
   "execution_count": 3,
   "id": "45be551a",
   "metadata": {},
   "outputs": [
    {
     "ename": "NameError",
     "evalue": "name 'chromedriver' is not defined",
     "output_type": "error",
     "traceback": [
      "\u001b[0;31m---------------------------------------------------------------------------\u001b[0m",
      "\u001b[0;31mNameError\u001b[0m                                 Traceback (most recent call last)",
      "Cell \u001b[0;32mIn[3], line 1\u001b[0m\n\u001b[0;32m----> 1\u001b[0m chromedriver \u001b[39m-\u001b[39m\u001b[39m-\u001b[39mversion\n",
      "\u001b[0;31mNameError\u001b[0m: name 'chromedriver' is not defined"
     ]
    }
   ],
   "source": [
    "chromedriver --version"
   ]
  },
  {
   "cell_type": "markdown",
   "id": "c88fe541",
   "metadata": {},
   "source": []
  },
  {
   "cell_type": "code",
   "execution_count": 66,
   "id": "39dbadaf",
   "metadata": {},
   "outputs": [
    {
     "name": "stdout",
     "output_type": "stream",
     "text": [
      "Creating Driver\n"
     ]
    },
    {
     "name": "stderr",
     "output_type": "stream",
     "text": [
      "/var/folders/7h/vk9jt7z14ddd1__kc33kl45w0000gn/T/ipykernel_27754/4000150633.py:32: DeprecationWarning: executable_path has been deprecated, please pass in a Service object\n",
      "  driver = webdriver.Chrome(\"./chromedriver\", options=options)\n"
     ]
    },
    {
     "name": "stdout",
     "output_type": "stream",
     "text": [
      "Fetching trending video\n",
      "Found 97 videos\n",
      "Parsing the top 10 videos\n",
      "[{'title': \"ประเพณี 'ลงปลาหว่านแห' 2 ปี มี 1 ครั้ง !!!!\", 'url': 'https://www.youtube.com/watch?v=61crRa7L9os', 'thumbnail_url': 'https://i.ytimg.com/vi/61crRa7L9os/hqdefault.jpg?sqp=-oaymwEcCPYBEIoBSFTyq4qpAw4IARUAAIhCGAFwAcABBg==&rs=AOn4CLAb2nxwd6LHK6d8rBIxfhp2Goch8A', 'channel_name': 'DJ Poom ', 'description_name': 'เปิดโลกกับอีก 1 ประเพณีของชาวอีสาน นั่นก็คือ ‘ลงปลาหว่านแห’ ซึ่งเป็นก...'}, {'title': 'ปอกเปลือก “ชูวิทย์” คิดล้มใครแน่ | คมชัดลึก | 6 มี.ค. 66 | FULL | NationTV22', 'url': 'https://www.youtube.com/watch?v=5iMxyboBWRM', 'thumbnail_url': 'https://i.ytimg.com/vi/5iMxyboBWRM/hqdefault.jpg?sqp=-oaymwEcCPYBEIoBSFTyq4qpAw4IARUAAIhCGAFwAcABBg==&rs=AOn4CLBUZae1ol46ov5HQt0PWKJZsZrWdQ', 'channel_name': 'Nation online', 'description_name': '#ชูวิทย์ #ทุนจีนสีเทา #รายการคมชัดลึก ---------------------------------------------------------- รับชมวีดีโอ...'}, {'title': 'หนังจีนเต็มเรื่องพากย์ไทย | เกราะบังตาประตูจำแลงพิศดาร (Qi Men Dun Jia) | แฟนตาซี / ผจญภัย', 'url': 'https://www.youtube.com/watch?v=ugPVBn5ZcAA', 'thumbnail_url': 'https://i.ytimg.com/vi/ugPVBn5ZcAA/hqdefault.jpg?sqp=-oaymwEcCPYBEIoBSFTyq4qpAw4IARUAAIhCGAFwAcABBg==&rs=AOn4CLCPSFY1SHK2Xx9vulqVYpiEZdcKlw', 'channel_name': 'หนังจีน พากย์ไทย', 'description_name': 'กดSubscribe และกดกระดิ่งแจ้งเตือน จะได้ไม่พลาดทุกความสนุก 👉กดติดตามเลย https://i...'}, {'title': 'ไฮไลท์ฟุตบอลพรีเมียร์ลีก 2022/23 สัปดาห์ที่ 26 : ลิเวอร์พูล พบ แมนเชสเตอร์ ยูไนเต็ด', 'url': 'https://www.youtube.com/watch?v=D2eqZ-xOp9A', 'thumbnail_url': None, 'channel_name': 'TrueVisionsOfficial', 'description_name': 'ครบทุกความบันเทิงแบบเอชดี แพ็กดีที่สุด!! แพลทินัม หรือ โกลด์ แพ็กเกจ...'}, {'title': 'ลิ้นยาวมาก #shorts', 'url': 'https://www.youtube.com/shorts/uTdGxfvy6jw', 'thumbnail_url': None, 'channel_name': 'วินริว สไมล์', 'description_name': ''}, {'title': 'PASULOL ริกกี้แมลงสาบเพื่อนรัก 3', 'url': 'https://www.youtube.com/watch?v=OnsXlbX87_M', 'thumbnail_url': None, 'channel_name': 'PASULOL', 'description_name': 'หลังจากหลายปีของการถูกเกลียดและทอดทิ้ง ริกกี้ก็ได้ค้นพบเส้นทางตัวเ...'}, {'title': 'ขี้เมาเอาแต่ใจ - ลำเพลิน วงศกร Feat. ลำไย ไหทองคำ【Music Video】', 'url': 'https://www.youtube.com/watch?v=xl8oZRpURYs', 'thumbnail_url': None, 'channel_name': 'Thaidol Music', 'description_name': 'เพลง ขี้เมาเอาแต่ใจ ศิลปิน ลำเพลิน วงศกร Feat.ลำไย ไหทองคำ คำร้อง เจี...'}, {'title': 'หลอยมาหาแหน่ - น้ำแข็ง ทิพวรรณ Ft. ปอนด์ กฤษฎา (OFFICIAL MV)', 'url': 'https://www.youtube.com/watch?v=ts0luKPuFj4', 'thumbnail_url': None, 'channel_name': 'น้ําแข็ง ทิพวรรณ', 'description_name': 'น้ำแข็ง ทิพวรรณ Faet. ปอนด์ กฤษฎา - หลอยมาหาแหน่ (OFFICIAL MV) https://bfan.link/LhoyMaHaNae เพลง : หลอยม...'}, {'title': '\"แอนฟิลด์ก็แค่สนามบอล? \" รวมทุกจังหวะ ลิเวอร์พูล MW 26 I Premier League Uncut', 'url': 'https://www.youtube.com/watch?v=YJ1L2bcrQB8', 'thumbnail_url': None, 'channel_name': 'True Sport Network', 'description_name': 'รวมทุกจังหวะของ ลิเวอร์พูล เปิดสนามแอนฟิลด์ ทำศึกแดงเดือด ถล่ม แมนฯ...'}, {'title': 'บัวขาว VS ทหารอเมริกา !!!! #Short | Buakaw Banchamek', 'url': 'https://www.youtube.com/shorts/yC_2yqiSkcE', 'thumbnail_url': None, 'channel_name': 'Buakaw Banchamek', 'description_name': 'อย่าลืมกด Subscribe และกดกระดิ่งให้กันนะ :) คลิก : https://www.youtube.com/user/buakawboxing ติดตามบัวขาว...'}]\n",
      "Saving the data to a CSV file\n",
      "Sending the email with the result\n",
      "Creating a connection to the SMTP server\n",
      "Getting secure connection\n",
      "Logging in to gmail using filled credentials (Environment Variable)\n",
      "Sending mail\n",
      "Done\n"
     ]
    }
   ],
   "source": [
    "# let's start fresh after installing Selenium for simplicity reasons\n",
    "\"\"\" Sometimes the code will not scrape all the videos if the page is not loaded completely. \n",
    "Import the time module & use the time.sleep(5) command to load the page completely and then find the elements. \"\"\"\n",
    "from selenium import webdriver\n",
    "from selenium.webdriver.chrome.options import Options\n",
    "from selenium.webdriver.common.by import By\n",
    "import time\n",
    "import pandas as pd\n",
    "# Import smtplib for the actual sending function\n",
    "import smtplib\n",
    "from datetime import date\n",
    "import os\n",
    "# Import the email modules we'll need\n",
    "from email.message import EmailMessage\n",
    "# Modules responsible for adding CSV attachment\n",
    "import csv\n",
    "from email.mime.multipart import MIMEMultipart\n",
    "from email.mime.text import MIMEText\n",
    "from email.mime.application import MIMEApplication\n",
    "# Handling \"No such element found error\"\n",
    "from selenium.common.exceptions import NoSuchElementException\n",
    "# from selenium.webdriver.chrome.service import Service\n",
    "# import json for formatting the \"videos data\" result\n",
    "import json\n",
    "\n",
    "YOUTUBE_TRENDING_URL = 'https://www.youtube.com/feed/trending'\n",
    "\n",
    "def get_driver():\n",
    "    # get chrome driver - u can think of the driver as browser\n",
    "    options = Options()\n",
    "    # options.headless = True\n",
    "    options.add_argument(\"--headless=new\") # stop showing browser window\n",
    "    # ser = Service(r\"./chromedriver.exe\")\n",
    "    driver = webdriver.Chrome(\"./chromedriver\", options=options)\n",
    "    return driver\n",
    "\n",
    "def get_videos(driver):\n",
    "    \n",
    "    # With the same metaphor, you can insert URL to the browser\n",
    "    driver.get(YOUTUBE_TRENDING_URL)\n",
    "\n",
    "    # Getting the video divs\n",
    "    video_div_tag = 'ytd-video-renderer'\n",
    "    time.sleep(5) #\n",
    "    video_div = driver.find_elements(By.TAG_NAME, video_div_tag) # Source: https://stackoverflow.com/questions/69875125/find-element-by-commands-are-deprecated-in-selenium\n",
    "    # video_div = driver.find_elements_by_class_name(video_div_class)\n",
    "    return video_div\n",
    "\n",
    "def parse_video(video):\n",
    "    try:\n",
    "        title_tag = video.find_element(By.ID, 'video-title')\n",
    "        # title = title_tag.text\n",
    "        title = title_tag.get_attribute('title')\n",
    "        \n",
    "        url = title_tag.get_attribute('href')\n",
    "\n",
    "        thumbnail_tag = video.find_element(By.TAG_NAME, 'img')\n",
    "        thumbnail_url = thumbnail_tag.get_attribute('src')\n",
    "\n",
    "        channel_div = video.find_element(By.CLASS_NAME, 'ytd-channel-name')\n",
    "        channel_name = channel_div.text\n",
    "\n",
    "        description = video.find_element(By.ID, 'description-text').text\n",
    "\n",
    "        return {\n",
    "            'title': title,\n",
    "            'url': url,\n",
    "            'thumbnail_url': thumbnail_url,\n",
    "            'channel_name': channel_name,\n",
    "            'description_name': description\n",
    "        }\n",
    "    \n",
    "    except NoSuchElementException:\n",
    "        pass\n",
    "\n",
    "def send_email(body):\n",
    "    SENDER_EMAIL = os.environ.get('GMAIL_USER')\n",
    "    RECEIVER_EMAIL = 'rasun2300@gmail.com, rasun2600@gmail.com'\n",
    "    TODAY_DATE = date.today()\n",
    "    # TODAY_DATE = TODAY_DATE.strftime(\"%d-%m-%Y\")\n",
    "    GMAIL_PASS = os.environ.get('GMAIL_PASS')\n",
    "\n",
    "    # Creating an instance of the EmailMessage class\n",
    "    # msg = EmailMessage() # single part email\n",
    "    msg = MIMEMultipart() # use this for multi part email such as a text part and a file attachment part.\n",
    "\n",
    "    # Set the email subject\n",
    "    msg['Subject'] = 'OMG Super Important Message'\n",
    "\n",
    "    # Set the email content\n",
    "    GMAIL_CONTENT = f\"\"\"\n",
    "\n",
    "    Dear team,\n",
    "\n",
    "    Hey, this is a test message sending over from python script. This email is sent on {TODAY_DATE}\n",
    "    \n",
    "    Best regards,\n",
    "    {SENDER_EMAIL}\n",
    "    \"\"\"\n",
    "    # msg.set_content(GMAIL_CONTENT)\n",
    "    msg.attach(MIMEText(GMAIL_CONTENT, 'plain'))\n",
    "\n",
    "    # Set the email sender and recipient\n",
    "    msg['From'] = SENDER_EMAIL\n",
    "    msg['To'] = RECEIVER_EMAIL\n",
    "\n",
    "    # Open CSV file and read its content\n",
    "    with open('/Users/mac/Documents/GitHub/selenium-youtube-scraper-live/trending.csv', 'r') as file:\n",
    "        csv_data = file.read()\n",
    "\n",
    "    # Attach the CSV file to the message\n",
    "    attachment = MIMEApplication(csv_data.encode('utf-8'), _subtype='csv')\n",
    "    attachment.add_header('Content-Disposition', 'attachment', filename='Trending Video Data.csv')\n",
    "    msg.attach(attachment)\n",
    "\n",
    "    # with open('/Users/mac/Documents/GitHub/selenium-youtube-scraper-live/trending.csv','rb') as file:\n",
    "    # Attach the file with filename to the email\n",
    "        # msg.attach(MIMEApplication(file.read(), Name=\"FILE_NAME\"))\n",
    "\n",
    "\n",
    "    try:\n",
    "        print('Creating a connection to the SMTP server')\n",
    "        server_ssl = smtplib.SMTP_SSL('smtp.gmail.com', 465)\n",
    "        print('Getting secure connection')\n",
    "        server_ssl.ehlo()\n",
    "\n",
    "        # subject = 'OMG Super Important Message'\n",
    "        # body = f'Hey, this is a test message sending over from python script. This email is sent on {TODAY_DATE}'\n",
    "\n",
    "        # email_text = f\"\"\"\n",
    "        # From: {SENDER_EMAIL}\n",
    "        # To: {RECEIVER_EMAIL}\n",
    "        # Subject: {subject}\n",
    "\n",
    "        # {body}\n",
    "        # \"\"\"\n",
    "        print('Logging in to gmail using filled credentials (Environment Variable)')\n",
    "        server_ssl.login(SENDER_EMAIL, GMAIL_PASS) \n",
    "        print('Sending mail')\n",
    "        # server_ssl.sendmail(SENDER_EMAIL, RECEIVER_EMAIL, email_text) #Uncomment the subject line to body line to use this line of code although this does not seem to return email subject properly\n",
    "        server_ssl.send_message(msg)\n",
    "        print('Done')\n",
    "        server_ssl.close()\n",
    "    except:\n",
    "        print ('Something went wrong...')\n",
    "\n",
    "if __name__ == \"__main__\":\n",
    "\n",
    "    print('Creating Driver')\n",
    "    driver = get_driver()\n",
    "\n",
    "    # With the same metaphor, you can insert URL to the browser\n",
    "    print('Fetching trending video')\n",
    "    videos = get_videos(driver)\n",
    "    \n",
    "    print(f'Found {len(videos)} videos')\n",
    "\n",
    "    print('Parsing the top 10 videos')\n",
    "    videos_data = [parse_video(video) for video in videos[:10]]\n",
    "    # title, url, thumbnail_url channel, views, uploaded, description\n",
    "\n",
    "    print(videos_data)\n",
    "\n",
    "    videos_df = pd.DataFrame(videos_data)\n",
    "    # print('Printing Dataframe')\n",
    "    # print(videos_df)\n",
    "    print('Saving the data to a CSV file')\n",
    "    videos_df.to_csv('trending.csv', index=None, encoding='utf-8-sig')\n",
    "\n",
    "    print(\"Sending the email with the result\")\n",
    "    body = json.dumps(videos_data, indent = 2)\n",
    "    send_email(body)\n"
   ]
  },
  {
   "cell_type": "code",
   "execution_count": 9,
   "id": "ed5e967c",
   "metadata": {},
   "outputs": [
    {
     "name": "stdout",
     "output_type": "stream",
     "text": [
      "2023-03-07\n",
      "07-03-2023\n"
     ]
    }
   ],
   "source": [
    "from datetime import date\n",
    "today = date.today()\n",
    "TODAY_DATE = today.strftime(\"%d-%m-%Y\")\n",
    "\n",
    "print(today)\n",
    "print(TODAY_DATE)"
   ]
  },
  {
   "cell_type": "code",
   "execution_count": null,
   "id": "773e129c",
   "metadata": {},
   "outputs": [],
   "source": []
  }
 ],
 "metadata": {
  "kernelspec": {
   "display_name": "Python 3",
   "language": "python",
   "name": "python3"
  },
  "language_info": {
   "codemirror_mode": {
    "name": "ipython",
    "version": 3
   },
   "file_extension": ".py",
   "mimetype": "text/x-python",
   "name": "python",
   "nbconvert_exporter": "python",
   "pygments_lexer": "ipython3",
   "version": "3.8.15"
  },
  "vscode": {
   "interpreter": {
    "hash": "413aa7332ee7bb8c39bcf300b900fc7bd599c9f8491ffd12beca873d6e202810"
   }
  }
 },
 "nbformat": 4,
 "nbformat_minor": 5
}
