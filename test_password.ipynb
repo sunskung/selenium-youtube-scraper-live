{
 "cells": [
  {
   "cell_type": "code",
   "execution_count": 51,
   "metadata": {},
   "outputs": [],
   "source": [
    "import sys\n",
    "# sys.path.append('/Users/mac/Documents/GitHub/credential/sys_config.py')\n",
    "sys.path.insert(0, '/Users/mac/Documents/GitHub/credential/sys_config.py')\n",
    "# sys.path.append('./sys_config.py')\n",
    "\n",
    "# from sys_config import gmail_password\n",
    "\n",
    "# print(gmail_password)\n"
   ]
  },
  {
   "cell_type": "code",
   "execution_count": 53,
   "metadata": {},
   "outputs": [
    {
     "name": "stdout",
     "output_type": "stream",
     "text": [
      "['/Users/mac/Documents/GitHub/credential/sys_config.py', '/Users/mac/Documents/GitHub/credential/test_library.py', '/Users/mac/Documents/GitHub/credential/test_library.py', '/Users/mac/Documents/GitHub/credential/config.py', '/Users/mac/Documents/GitHub/selenium-youtube-scraper-live', '/Users/mac/.pyenv/versions/3.8.15/lib/python38.zip', '/Users/mac/.pyenv/versions/3.8.15/lib/python3.8', '/Users/mac/.pyenv/versions/3.8.15/lib/python3.8/lib-dynload', '', '/Users/mac/.pyenv/versions/3.8.15/lib/python3.8/site-packages', './sys_config.py', './sys_config.py']\n"
     ]
    }
   ],
   "source": [
    "print(sys.path)"
   ]
  },
  {
   "cell_type": "code",
   "execution_count": 54,
   "metadata": {},
   "outputs": [],
   "source": [
    "sys.path.remove('/Users/mac/Documents/GitHub/credential/sys_config.py')"
   ]
  },
  {
   "cell_type": "code",
   "execution_count": 55,
   "metadata": {},
   "outputs": [
    {
     "ename": "ModuleNotFoundError",
     "evalue": "No module named 'sys_config'",
     "output_type": "error",
     "traceback": [
      "\u001b[0;31m---------------------------------------------------------------------------\u001b[0m",
      "\u001b[0;31mModuleNotFoundError\u001b[0m                       Traceback (most recent call last)",
      "Cell \u001b[0;32mIn[55], line 1\u001b[0m\n\u001b[0;32m----> 1\u001b[0m \u001b[39mfrom\u001b[39;00m \u001b[39msys_config\u001b[39;00m \u001b[39mimport\u001b[39;00m gmail_password\n\u001b[1;32m      3\u001b[0m \u001b[39mprint\u001b[39m(gmail_password)\n",
      "\u001b[0;31mModuleNotFoundError\u001b[0m: No module named 'sys_config'"
     ]
    }
   ],
   "source": [
    "from sys_config import gmail_password\n",
    "\n",
    "print(gmail_password)"
   ]
  }
 ],
 "metadata": {
  "kernelspec": {
   "display_name": "Python 3",
   "language": "python",
   "name": "python3"
  },
  "language_info": {
   "codemirror_mode": {
    "name": "ipython",
    "version": 3
   },
   "file_extension": ".py",
   "mimetype": "text/x-python",
   "name": "python",
   "nbconvert_exporter": "python",
   "pygments_lexer": "ipython3",
   "version": "3.8.15"
  },
  "orig_nbformat": 4
 },
 "nbformat": 4,
 "nbformat_minor": 2
}
