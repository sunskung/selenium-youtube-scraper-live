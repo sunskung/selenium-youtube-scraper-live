{
 "cells": [
  {
   "cell_type": "code",
   "execution_count": 14,
   "metadata": {},
   "outputs": [
    {
     "ename": "ModuleNotFoundError",
     "evalue": "No module named 'test_library'",
     "output_type": "error",
     "traceback": [
      "\u001b[0;31m---------------------------------------------------------------------------\u001b[0m",
      "\u001b[0;31mModuleNotFoundError\u001b[0m                       Traceback (most recent call last)",
      "Cell \u001b[0;32mIn[14], line 5\u001b[0m\n\u001b[1;32m      2\u001b[0m \u001b[39m# sys.path.append('/Users/mac/Documents/GitHub/credential/sys_config.py')\u001b[39;00m\n\u001b[1;32m      3\u001b[0m sys\u001b[39m.\u001b[39mpath\u001b[39m.\u001b[39minsert(\u001b[39m0\u001b[39m, \u001b[39m'\u001b[39m\u001b[39m/Users/mac/Documents/GitHub/credential/test_library.py\u001b[39m\u001b[39m'\u001b[39m)\n\u001b[0;32m----> 5\u001b[0m \u001b[39mfrom\u001b[39;00m \u001b[39mtest_library\u001b[39;00m \u001b[39mimport\u001b[39;00m gmail_password\n\u001b[1;32m      7\u001b[0m \u001b[39mprint\u001b[39m(gmail_password)\n",
      "\u001b[0;31mModuleNotFoundError\u001b[0m: No module named 'test_library'"
     ]
    }
   ],
   "source": [
    "import sys\n",
    "# sys.path.append('/Users/mac/Documents/GitHub/credential/sys_config.py')\n",
    "sys.path.insert(0, '/Users/mac/Documents/GitHub/credential/sys_config.py')\n",
    "\n",
    "from sys_config import gmail_password\n",
    "\n",
    "print(gmail_password)\n"
   ]
  }
 ],
 "metadata": {
  "kernelspec": {
   "display_name": "Python 3",
   "language": "python",
   "name": "python3"
  },
  "language_info": {
   "codemirror_mode": {
    "name": "ipython",
    "version": 3
   },
   "file_extension": ".py",
   "mimetype": "text/x-python",
   "name": "python",
   "nbconvert_exporter": "python",
   "pygments_lexer": "ipython3",
   "version": "3.8.15"
  },
  "orig_nbformat": 4
 },
 "nbformat": 4,
 "nbformat_minor": 2
}
