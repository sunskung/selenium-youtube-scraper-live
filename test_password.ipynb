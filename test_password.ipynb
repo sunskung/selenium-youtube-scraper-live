{
 "cells": [
  {
   "cell_type": "code",
   "execution_count": 5,
   "metadata": {},
   "outputs": [
    {
     "ename": "ModuleNotFoundError",
     "evalue": "No module named 'credential'",
     "output_type": "error",
     "traceback": [
      "\u001b[0;31m---------------------------------------------------------------------------\u001b[0m",
      "\u001b[0;31mModuleNotFoundError\u001b[0m                       Traceback (most recent call last)",
      "Cell \u001b[0;32mIn[5], line 4\u001b[0m\n\u001b[1;32m      1\u001b[0m \u001b[39mimport\u001b[39;00m \u001b[39msys\u001b[39;00m\n\u001b[1;32m      2\u001b[0m sys\u001b[39m.\u001b[39mpath\u001b[39m.\u001b[39mappend(\u001b[39m'\u001b[39m\u001b[39m/Users/mac/Documents/GitHub/credential/sys_config.py\u001b[39m\u001b[39m'\u001b[39m)\n\u001b[0;32m----> 4\u001b[0m \u001b[39mfrom\u001b[39;00m \u001b[39msys_config\u001b[39;00m \u001b[39mimport\u001b[39;00m gmail_password\n\u001b[1;32m      6\u001b[0m \u001b[39mprint\u001b[39m(gmail_password)\n",
      "File \u001b[0;32m~/Documents/GitHub/selenium-youtube-scraper-live/sys_config.py:4\u001b[0m\n\u001b[1;32m      1\u001b[0m \u001b[39mimport\u001b[39;00m \u001b[39msys\u001b[39;00m\n\u001b[1;32m      2\u001b[0m sys\u001b[39m.\u001b[39mpath\u001b[39m.\u001b[39mappend(\u001b[39m'\u001b[39m\u001b[39m/Users/mac/Documents/GitHub/credential\u001b[39m\u001b[39m'\u001b[39m)\n\u001b[0;32m----> 4\u001b[0m \u001b[39mfrom\u001b[39;00m \u001b[39mcredential\u001b[39;00m \u001b[39mimport\u001b[39;00m sys_config\n\u001b[1;32m      6\u001b[0m \u001b[39mprint\u001b[39m(sys_config)\n",
      "\u001b[0;31mModuleNotFoundError\u001b[0m: No module named 'credential'"
     ]
    }
   ],
   "source": [
    "import sys\n",
    "sys.path.append('/Users/mac/Documents/GitHub/credential/sys_config.py')\n",
    "\n",
    "from sys_config import gmail_password\n",
    "\n",
    "print(gmail_password)\n"
   ]
  }
 ],
 "metadata": {
  "kernelspec": {
   "display_name": "Python 3",
   "language": "python",
   "name": "python3"
  },
  "language_info": {
   "codemirror_mode": {
    "name": "ipython",
    "version": 3
   },
   "file_extension": ".py",
   "mimetype": "text/x-python",
   "name": "python",
   "nbconvert_exporter": "python",
   "pygments_lexer": "ipython3",
   "version": "3.8.15"
  },
  "orig_nbformat": 4
 },
 "nbformat": 4,
 "nbformat_minor": 2
}
