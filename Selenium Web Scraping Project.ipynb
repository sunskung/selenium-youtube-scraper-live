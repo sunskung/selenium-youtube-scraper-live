{
 "cells": [
  {
   "cell_type": "markdown",
   "id": "7f5d735d",
   "metadata": {},
   "source": [
    "# Web Scraping from Scratch with Selenium & AWS\n",
    "\n",
    "## Objective\n",
    "1. Scrape top  10 trending videos on Youtube using Selenium\n",
    "2. Set up a recurring job on AWS Lambda to scrape every 30 minute\n",
    "3. Send the result as a CSV attachment over email (or to a spreadsheet)\n",
    "\n",
    "### Step 1 - Create a GitHub repository\n",
    "* Create a repository at https://github.com/new\n",
    "* Add README, gitignore (Python) and license \n",
    "* (Optional) Clone the repository locally\n",
    "* References:\n",
    "    * Introduction to GitHub: https://lab.github.com/githubtraining... \n",
    "    * Git & GitHub tutorial:   \n",
    "\n",
    " • Git and GitHub fo...   \n",
    "\n",
    "\n",
    "### Step 2 - Launch the repository on Replit\n",
    "* Connect Replit with your GitHub account\n",
    "* Launch the repository as a Replit project\n",
    "* Set up the language and run command\n",
    "* Create and execute a Python script\n",
    "* Attempt to scrape the page using requests & Beautiful Soup\n",
    "* References:\n",
    "    * Introduction to Replit: https://docs.replit.com/tutorials/01-... \n",
    "    * Replit + GitHub: https://docs.replit.com/tutorials/06-... \n",
    "    * YouTube trending feed: https://www.youtube.com/feed/trending \n",
    "    * Beautiful soup tutorial: https://blog.jovian.ai/web-scraping-u... \n",
    "\n",
    "\n",
    "### Step 3 - Extract information using Selenium\n",
    "* Install selenium and create a browser driver\n",
    "* Load the page and extract information\n",
    "* Create a CSV of results using Pandas\n",
    "* References:\n",
    "    * Selenium tutorial: https://www.browserstack.com/guide/py...\n",
    "    * Pandas tutorial: https://jovian.ai/learn/data-analysis...\n",
    "\n",
    "\n",
    "### Step 4 - Set up a recurring job on AWS Lambda\n",
    "* Create an AWS Lambda Python function\n",
    "* Deploy a sample script and observe the output\n",
    "* Add layers for Selenium and Chromium\n",
    "* Set up recurring job using AWS CloudWatch\n",
    "* References:\n",
    "    * Python on AWS Lambda tutorial: https://stackify.com/aws-lambda-with-... \n",
    "    * Chromium & Selenium on AWS Lambda: https://dev.to/awscommunity-asean/cre...\n",
    "    * Recurring AWS Lambda functions: https://docs.aws.amazon.com/lambda/la... \n",
    "\n",
    "### Step 5 - Send results over email using SMTP\n",
    "* Create email client using smtplib\n",
    "* Set up SSL, TLS and authenticate with password\n",
    "* Send a sample email with just text\n",
    "* Send an email with text and attachment\n",
    "* References:\n",
    "    * Sending Email with Python: https://stackabuse.com/how-to-send-em...\n",
    "    * Send email using Python: https://www.geeksforgeeks.org/send-ma...\n",
    "    * Environment variables on Replit: https://docs.replit.com/programming-i...\n",
    "    * https://docs.aws.amazon.com/lambda/la... \n",
    "    * Update Google sheets using Python: https://www.analyticsvidhya.com/blog/..."
   ]
  },
  {
   "cell_type": "code",
   "execution_count": 1,
   "id": "f2d58019",
   "metadata": {},
   "outputs": [
    {
     "name": "stdout",
     "output_type": "stream",
     "text": [
      "5\n"
     ]
    }
   ],
   "source": [
    "print(5)"
   ]
  },
  {
   "cell_type": "code",
   "execution_count": 8,
   "id": "135278aa",
   "metadata": {},
   "outputs": [
    {
     "name": "stdout",
     "output_type": "stream",
     "text": [
      "Status Code 200\n"
     ]
    }
   ],
   "source": [
    "import requests\n",
    "from bs4 import BeautifulSoup\n",
    "\n",
    "YOUTUBE_TRENDING_URL = 'https://www.youtube.com/feed/trending'\n",
    "\n",
    "response = requests.get(YOUTUBE_TRENDING_URL)\n",
    "\n",
    "# status code of \"200\" means successful , \"404\" means unsuccessful\n",
    "print('Status Code', response.status_code)\n",
    "\n",
    "# w means \"write to the file\"\n",
    "# with open('trending.html', 'w') as f:\n",
    "#     f.write(response.text)\n",
    "\n",
    "doc = BeautifulSoup(response.text,)"
   ]
  },
  {
   "cell_type": "code",
   "execution_count": 6,
   "id": "c1df62fd",
   "metadata": {},
   "outputs": [
    {
     "data": {
      "text/plain": [
       "{'Content-Type': 'text/html; charset=utf-8', 'X-Content-Type-Options': 'nosniff', 'Cache-Control': 'no-cache, no-store, max-age=0, must-revalidate', 'Pragma': 'no-cache', 'Expires': 'Mon, 01 Jan 1990 00:00:00 GMT', 'Date': 'Thu, 02 Mar 2023 06:07:19 GMT', 'X-Frame-Options': 'SAMEORIGIN', 'Strict-Transport-Security': 'max-age=31536000', 'Report-To': '{\"group\":\"youtube_main\",\"max_age\":2592000,\"endpoints\":[{\"url\":\"https://csp.withgoogle.com/csp/report-to/youtube_main\"}]}', 'Permissions-Policy': 'ch-ua-arch=*, ch-ua-bitness=*, ch-ua-full-version=*, ch-ua-full-version-list=*, ch-ua-model=*, ch-ua-wow64=*, ch-ua-platform=*, ch-ua-platform-version=*', 'Cross-Origin-Opener-Policy-Report-Only': 'same-origin-allow-popups; report-to=\"youtube_main\"', 'P3P': 'CP=\"This is not a P3P policy! See http://support.google.com/accounts/answer/151657?hl=th for more info.\"', 'Content-Encoding': 'gzip', 'Server': 'ESF', 'X-XSS-Protection': '0', 'Set-Cookie': 'GPS=1; Domain=.youtube.com; Expires=Thu, 02-Mar-2023 06:37:19 GMT; Path=/; Secure; HttpOnly, YSC=lg_gAZXIarA; Domain=.youtube.com; Path=/; Secure; HttpOnly; SameSite=none, VISITOR_INFO1_LIVE=fY-1m46AvS0; Domain=.youtube.com; Expires=Tue, 29-Aug-2023 06:07:19 GMT; Path=/; Secure; HttpOnly; SameSite=none', 'Alt-Svc': 'h3=\":443\"; ma=2592000,h3-29=\":443\"; ma=2592000', 'Transfer-Encoding': 'chunked'}"
      ]
     },
     "execution_count": 6,
     "metadata": {},
     "output_type": "execute_result"
    }
   ],
   "source": [
    "response.headers"
   ]
  },
  {
   "cell_type": "code",
   "execution_count": null,
   "id": "a37bbf71",
   "metadata": {},
   "outputs": [],
   "source": []
  }
 ],
 "metadata": {
  "kernelspec": {
   "display_name": "base",
   "language": "python",
   "name": "python3"
  },
  "language_info": {
   "codemirror_mode": {
    "name": "ipython",
    "version": 3
   },
   "file_extension": ".py",
   "mimetype": "text/x-python",
   "name": "python",
   "nbconvert_exporter": "python",
   "pygments_lexer": "ipython3",
   "version": "3.9.12"
  },
  "vscode": {
   "interpreter": {
    "hash": "ad2bdc8ecc057115af97d19610ffacc2b4e99fae6737bb82f5d7fb13d2f2c186"
   }
  }
 },
 "nbformat": 4,
 "nbformat_minor": 5
}
